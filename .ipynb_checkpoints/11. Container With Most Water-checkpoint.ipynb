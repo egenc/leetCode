{
 "cells": [
  {
   "cell_type": "code",
   "execution_count": 20,
   "metadata": {},
   "outputs": [
    {
     "name": "stdout",
     "output_type": "stream",
     "text": [
      "[4, 2, 3, 2, 1, 4]\n"
     ]
    }
   ],
   "source": [
    "def maxArea(height):\n",
    "    area = 0\n",
    "    sort_rev = sorted(height)[::-1]\n",
    "    for i in range(len(sort_rev)-1):\n",
    "        if sort_rev[i] == sort_rev[i+1]:\n",
    "            a = sort_rev[i]\n",
    "            b = abs(height.index(sort_rev[i])-height.index(sort_rev[i+1]))\n",
    "            if a*b > area:\n",
    "                area = a*b\n",
    "        else:\n",
    "            a = min([sort_rev[i], sort_rev[i+1]])\n",
    "            b = b = abs(height.index(sort_rev[i])-height.index(sort_rev[i+1]))\n",
    "            if a*b > area:\n",
    "                area = a*b\n",
    "    return area\n",
    "    \n",
    "s1 = [1,8,6,2,5,4,8,3,7]\n",
    "s2 = [4,2,1,3,2,1,4]\n",
    "s2.remove(1)\n",
    "print(s2)"
   ]
  }
 ],
 "metadata": {
  "kernelspec": {
   "display_name": "Python [conda env:padchest] *",
   "language": "python",
   "name": "conda-env-padchest-py"
  },
  "language_info": {
   "codemirror_mode": {
    "name": "ipython",
    "version": 3
   },
   "file_extension": ".py",
   "mimetype": "text/x-python",
   "name": "python",
   "nbconvert_exporter": "python",
   "pygments_lexer": "ipython3",
   "version": "3.7.7"
  }
 },
 "nbformat": 4,
 "nbformat_minor": 4
}
