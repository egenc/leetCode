{
 "cells": [
  {
   "cell_type": "code",
   "execution_count": 1,
   "metadata": {},
   "outputs": [
    {
     "data": {
      "text/plain": [
       "9"
      ]
     },
     "execution_count": 1,
     "metadata": {},
     "output_type": "execute_result"
    }
   ],
   "source": [
    "def maxProfit(prices):\n",
    "    if len(prices)<=0: return 0\n",
    "    elif prices.index(max(prices)) > prices.index(min(prices)):\n",
    "            return max(prices) - min(prices)\n",
    "    else:\n",
    "        result = 0\n",
    "        min_value = float('inf')\n",
    "        for i in range(len(prices)):\n",
    "            if prices[i]<min_value:\n",
    "                min_value = prices[i]\n",
    "            elif prices[i]-min_value> result:\n",
    "                result = prices[i]-min_value\n",
    "        return result\n",
    "\n",
    "s1 = [2,4,1]\n",
    "s2 = [7,1,5,3,6,4,10]\n",
    "s3 = [7,6,4,3,1,35,6,7,4,2,67,32,67]\n",
    "maxProfit(s2)"
   ]
  }
 ],
 "metadata": {
  "kernelspec": {
   "display_name": "Python [conda env:padchest] *",
   "language": "python",
   "name": "conda-env-padchest-py"
  },
  "language_info": {
   "codemirror_mode": {
    "name": "ipython",
    "version": 3
   },
   "file_extension": ".py",
   "mimetype": "text/x-python",
   "name": "python",
   "nbconvert_exporter": "python",
   "pygments_lexer": "ipython3",
   "version": "3.7.7"
  }
 },
 "nbformat": 4,
 "nbformat_minor": 4
}
