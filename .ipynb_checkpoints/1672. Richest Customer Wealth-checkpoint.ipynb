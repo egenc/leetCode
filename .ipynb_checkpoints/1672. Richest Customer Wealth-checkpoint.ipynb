{
 "cells": [
  {
   "cell_type": "code",
   "execution_count": 5,
   "metadata": {},
   "outputs": [
    {
     "name": "stdout",
     "output_type": "stream",
     "text": [
      "17\n"
     ]
    }
   ],
   "source": [
    "def rich(acc):\n",
    "    temp = 0\n",
    "    for ele in acc:\n",
    "        if sum(ele)>temp:\n",
    "            temp = sum(ele)\n",
    "    return temp\n",
    "    \n",
    "acc = [[2,8,7],[7,1,3],[1,9,5]]\n",
    "print(rich(acc))"
   ]
  }
 ],
 "metadata": {
  "kernelspec": {
   "display_name": "Python [conda env:padchest] *",
   "language": "python",
   "name": "conda-env-padchest-py"
  },
  "language_info": {
   "codemirror_mode": {
    "name": "ipython",
    "version": 3
   },
   "file_extension": ".py",
   "mimetype": "text/x-python",
   "name": "python",
   "nbconvert_exporter": "python",
   "pygments_lexer": "ipython3",
   "version": "3.7.7"
  }
 },
 "nbformat": 4,
 "nbformat_minor": 4
}
