{
 "cells": [
  {
   "cell_type": "code",
   "execution_count": 32,
   "metadata": {},
   "outputs": [],
   "source": [
    "class ListNode(object):\n",
    "    def __init__(self, x):\n",
    "        self.val = x\n",
    "        self.next = None\n",
    "        \n",
    "class Solution(object):\n",
    "    def addTwoNumbers(self, l1, l2):\n",
    "\n",
    "        carry = 0\n",
    "        dummy = ListNode()\n",
    "        curr = dummy\n",
    "        while l1 != None or l2 != None:\n",
    "            if l1 != None:\n",
    "                carry += l1.val\n",
    "                l1 = l1.next\n",
    "            if l2 != None:\n",
    "                carry += l2.val\n",
    "                l2 = l2.next\n",
    "            curr.next = ListNode(carry % 10)\n",
    "            carry = 1 if carry >= 10 else 0\n",
    "            curr = curr.next\n",
    "        if carry != 0:\n",
    "            curr.next = ListNode(carry)\n",
    "        return dummy.next     "
   ]
  }
 ],
 "metadata": {
  "kernelspec": {
   "display_name": "Python [conda env:padchest] *",
   "language": "python",
   "name": "conda-env-padchest-py"
  },
  "language_info": {
   "codemirror_mode": {
    "name": "ipython",
    "version": 3
   },
   "file_extension": ".py",
   "mimetype": "text/x-python",
   "name": "python",
   "nbconvert_exporter": "python",
   "pygments_lexer": "ipython3",
   "version": "3.7.7"
  }
 },
 "nbformat": 4,
 "nbformat_minor": 4
}
