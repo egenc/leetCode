{
 "cells": [
  {
   "cell_type": "code",
   "execution_count": 23,
   "metadata": {},
   "outputs": [
    {
     "name": "stdout",
     "output_type": "stream",
     "text": [
      "3\n"
     ]
    }
   ],
   "source": [
    "from collections import Counter\n",
    "\n",
    "class Solution:\n",
    "    def firstUniqChar(self, s):\n",
    "        co  = Counter(s)\n",
    "        res = [i for i in co if co[i]==1]\n",
    "        if len(res)>0:\n",
    "            return s.index(res[0])\n",
    "        else: return -1\n",
    "            \n",
    "            \n",
    "if __name__ == '__main__':\n",
    "    a = Solution()\n",
    "    s = 'eeel'\n",
    "    print(a.firstUniqChar(s))\n"
   ]
  }
 ],
 "metadata": {
  "kernelspec": {
   "display_name": "Python [conda env:padchest] *",
   "language": "python",
   "name": "conda-env-padchest-py"
  },
  "language_info": {
   "codemirror_mode": {
    "name": "ipython",
    "version": 3
   },
   "file_extension": ".py",
   "mimetype": "text/x-python",
   "name": "python",
   "nbconvert_exporter": "python",
   "pygments_lexer": "ipython3",
   "version": "3.7.7"
  }
 },
 "nbformat": 4,
 "nbformat_minor": 4
}
