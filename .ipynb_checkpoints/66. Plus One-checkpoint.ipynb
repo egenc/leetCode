{
 "cells": [
  {
   "cell_type": "code",
   "execution_count": 52,
   "metadata": {
    "scrolled": true
   },
   "outputs": [
    {
     "name": "stdout",
     "output_type": "stream",
     "text": [
      "[1, 0, 0, 0]\n"
     ]
    }
   ],
   "source": [
    "def plusOne(digits):\n",
    "    if digits.count(9) == len(digits):\n",
    "        n = [1]\n",
    "        for i in range(len(digits)):\n",
    "            n.append(0)\n",
    "        return n\n",
    "    for i in range(1, len(digits)+1):\n",
    "        if digits[-i] == 9: digits[-i] = 0\n",
    "        else: \n",
    "            digits[-i] += 1 \n",
    "            break\n",
    "    return digits\n",
    "n = [4,3,2,1,9,9,9,9]\n",
    "n1 = [9,9,9]\n",
    "print(plusOne(n1))\n",
    "\n"
   ]
  }
 ],
 "metadata": {
  "kernelspec": {
   "display_name": "Python [conda env:padchest] *",
   "language": "python",
   "name": "conda-env-padchest-py"
  },
  "language_info": {
   "codemirror_mode": {
    "name": "ipython",
    "version": 3
   },
   "file_extension": ".py",
   "mimetype": "text/x-python",
   "name": "python",
   "nbconvert_exporter": "python",
   "pygments_lexer": "ipython3",
   "version": "3.7.7"
  }
 },
 "nbformat": 4,
 "nbformat_minor": 4
}
