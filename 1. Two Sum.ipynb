{
 "cells": [
  {
   "cell_type": "code",
   "execution_count": 9,
   "metadata": {},
   "outputs": [
    {
     "name": "stdout",
     "output_type": "stream",
     "text": [
      "[1, 3]\n"
     ]
    }
   ],
   "source": [
    "\n",
    "class Solution:\n",
    "    def twoSum(self, nums, target):\n",
    "        res = dict()\n",
    "        for i, ele in enumerate(nums):\n",
    "            j = target - ele\n",
    "            if j in res:\n",
    "                return [res[j], i]\n",
    "            res[ele] = i\n",
    "                \n",
    "                \n",
    "                \n",
    "        \n",
    "if __name__ == '__main__':\n",
    "    a = Solution()\n",
    "    nums = [2,7,11,15]\n",
    "    nums1 = [1,3,2,3]\n",
    "    print(a.twoSum(nums1, 6))"
   ]
  }
 ],
 "metadata": {
  "kernelspec": {
   "display_name": "Python [conda env:padchest] *",
   "language": "python",
   "name": "conda-env-padchest-py"
  },
  "language_info": {
   "codemirror_mode": {
    "name": "ipython",
    "version": 3
   },
   "file_extension": ".py",
   "mimetype": "text/x-python",
   "name": "python",
   "nbconvert_exporter": "python",
   "pygments_lexer": "ipython3",
   "version": "3.7.7"
  }
 },
 "nbformat": 4,
 "nbformat_minor": 4
}
