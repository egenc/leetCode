{
 "cells": [
  {
   "cell_type": "code",
   "execution_count": null,
   "metadata": {},
   "outputs": [],
   "source": [
    "from collections import deque\n",
    "\n",
    "class Solution:\n",
    "    \n",
    "    def isSymmetric(self, root: TreeNode) -> bool:\n",
    "        \n",
    "        def check(lnode, rnode):\n",
    "            if not lnode and not rnode:\n",
    "                return True\n",
    "            elif lnode and rnode:\n",
    "                if not lnode.val == rnode.val:\n",
    "                    return False\n",
    "                else:\n",
    "                    return check(lnode.left, rnode.right) and check(lnode.right, rnode.left)\n",
    "            else:\n",
    "                return False\n",
    "        \n",
    "        if not root:\n",
    "            return True\n",
    "        else:\n",
    "            return check(root.left, root.right)"
   ]
  }
 ],
 "metadata": {
  "kernelspec": {
   "display_name": "Python [conda env:padchest] *",
   "language": "python",
   "name": "conda-env-padchest-py"
  },
  "language_info": {
   "codemirror_mode": {
    "name": "ipython",
    "version": 3
   },
   "file_extension": ".py",
   "mimetype": "text/x-python",
   "name": "python",
   "nbconvert_exporter": "python",
   "pygments_lexer": "ipython3",
   "version": "3.7.7"
  }
 },
 "nbformat": 4,
 "nbformat_minor": 4
}
