{
 "cells": [
  {
   "cell_type": "code",
   "execution_count": 44,
   "metadata": {},
   "outputs": [
    {
     "name": "stdout",
     "output_type": "stream",
     "text": [
      "4\n"
     ]
    }
   ],
   "source": [
    "def maxArea1(height):\n",
    "    area = 0\n",
    "    sort_rev = sorted(height)[::-1]\n",
    "    for i in range(len(sort_rev)-1):\n",
    "        if sort_rev[i] == sort_rev[i+1]:\n",
    "            a = sort_rev[i]\n",
    "            b = abs(height.index(sort_rev[i])-height.index(sort_rev[i+1], height.index(sort_rev[i])+1))\n",
    "            if a*b > area:\n",
    "                area = a*b\n",
    "        else:\n",
    "            a = min([sort_rev[i], sort_rev[i+1]])\n",
    "            b = b = abs(height.index(sort_rev[i])-height.index(sort_rev[i+1]))\n",
    "            if a*b > area:\n",
    "                area = a*b\n",
    "    return area\n",
    "\n",
    "def maxArea(height):\n",
    "    area = 0\n",
    "    for i in range(len(height)):\n",
    "        for j in range(i+1, len(height)):\n",
    "            if height[i]*height[j]>area:\n",
    "                area = height[i] * height[j]\n",
    "    return area\n",
    "    \n",
    "    \n",
    "s1 = [1,8,6,2,5,4,8,3,7]\n",
    "s2 = [4,3,2,1,4]\n",
    "s3 = [1,0,0,0,0,0,0,2,2]\n",
    "\n",
    "print(maxArea(s3))\n",
    "\n"
   ]
  }
 ],
 "metadata": {
  "kernelspec": {
   "display_name": "Python [conda env:padchest] *",
   "language": "python",
   "name": "conda-env-padchest-py"
  },
  "language_info": {
   "codemirror_mode": {
    "name": "ipython",
    "version": 3
   },
   "file_extension": ".py",
   "mimetype": "text/x-python",
   "name": "python",
   "nbconvert_exporter": "python",
   "pygments_lexer": "ipython3",
   "version": "3.7.7"
  }
 },
 "nbformat": 4,
 "nbformat_minor": 4
}
