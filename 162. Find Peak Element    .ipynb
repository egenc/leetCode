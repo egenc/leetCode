{
 "cells": [
  {
   "cell_type": "code",
   "execution_count": null,
   "metadata": {},
   "outputs": [],
   "source": [
    "class Solution:\n",
    "    def findPeakElement(self, nums: List[int]) -> int:\n",
    "        l, r = 0, len(nums) - 1\n",
    "        while l + 1 < r:\n",
    "            m = (l + r) // 2\n",
    "            if nums[m] < nums[m - 1]:\n",
    "                r = m\n",
    "            elif nums[m] < nums[m + 1]:\n",
    "                l = m\n",
    "            else:\n",
    "                r = m\n",
    "        if nums[l] < nums[r]:\n",
    "            return r\n",
    "        else:\n",
    "            return l"
   ]
  }
 ],
 "metadata": {
  "kernelspec": {
   "display_name": "Python [conda env:padchest] *",
   "language": "python",
   "name": "conda-env-padchest-py"
  },
  "language_info": {
   "codemirror_mode": {
    "name": "ipython",
    "version": 3
   },
   "file_extension": ".py",
   "mimetype": "text/x-python",
   "name": "python",
   "nbconvert_exporter": "python",
   "pygments_lexer": "ipython3",
   "version": "3.7.7"
  }
 },
 "nbformat": 4,
 "nbformat_minor": 4
}
