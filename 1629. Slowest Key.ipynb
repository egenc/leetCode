{
 "cells": [
  {
   "cell_type": "code",
   "execution_count": 32,
   "metadata": {},
   "outputs": [
    {
     "name": "stdout",
     "output_type": "stream",
     "text": [
      "c\n"
     ]
    }
   ],
   "source": [
    "\n",
    "def slowestKey( releaseTimes, keysPressed):\n",
    "    largest, index = releaseTimes[0], 0\n",
    "    for i in range(1,len(releaseTimes)):\n",
    "        if releaseTimes[i]-releaseTimes[i-1]>largest:\n",
    "            largest, index = releaseTimes[i]-releaseTimes[i-1], i\n",
    "        elif releaseTimes[i]-releaseTimes[i-1]==largest:\n",
    "            largest = releaseTimes[i]-releaseTimes[i-1]\n",
    "            if keysPressed[i-1]>keysPressed[i]:\n",
    "                index = i-1\n",
    "            else:\n",
    "                index = i     \n",
    "    return keysPressed[index]\n",
    "        \n",
    "\n",
    "ex = [9,29,49,50]\n",
    "key = \"cbcd\"\n",
    "print(slowestKey(ex, key))\n"
   ]
  }
 ],
 "metadata": {
  "kernelspec": {
   "display_name": "Python [conda env:padchest] *",
   "language": "python",
   "name": "conda-env-padchest-py"
  },
  "language_info": {
   "codemirror_mode": {
    "name": "ipython",
    "version": 3
   },
   "file_extension": ".py",
   "mimetype": "text/x-python",
   "name": "python",
   "nbconvert_exporter": "python",
   "pygments_lexer": "ipython3",
   "version": "3.7.7"
  }
 },
 "nbformat": 4,
 "nbformat_minor": 4
}
