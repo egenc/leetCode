{
 "cells": [
  {
   "cell_type": "code",
   "execution_count": 12,
   "metadata": {},
   "outputs": [
    {
     "name": "stdout",
     "output_type": "stream",
     "text": [
      "True\n"
     ]
    }
   ],
   "source": [
    "class Solution:\n",
    "    def arrayStringsAreEqual(self, word1, word2):\n",
    "        w1 = ''\n",
    "        w2 = ''\n",
    "        for i in range(len(word1)):\n",
    "            w1 += word1[i]\n",
    "        for i in range(len(word2)):\n",
    "            w2 += word2[i]\n",
    "        if w1==w2:\n",
    "            return True\n",
    "        else: return False\n",
    "\n",
    "    \n",
    "if __name__ == '__main__':\n",
    "    a = Solution()\n",
    "    w1 = [\"abc\", \"d\", \"defg\"]\n",
    "    w2 = [\"abcddefg\"]\n",
    "    print(a.arrayStringsAreEqual(w1, w2))\n"
   ]
  }
 ],
 "metadata": {
  "kernelspec": {
   "display_name": "Python [conda env:padchest] *",
   "language": "python",
   "name": "conda-env-padchest-py"
  },
  "language_info": {
   "codemirror_mode": {
    "name": "ipython",
    "version": 3
   },
   "file_extension": ".py",
   "mimetype": "text/x-python",
   "name": "python",
   "nbconvert_exporter": "python",
   "pygments_lexer": "ipython3",
   "version": "3.7.7"
  }
 },
 "nbformat": 4,
 "nbformat_minor": 4
}
