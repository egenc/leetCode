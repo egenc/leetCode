{
 "cells": [
  {
   "cell_type": "code",
   "execution_count": 31,
   "metadata": {},
   "outputs": [
    {
     "name": "stdout",
     "output_type": "stream",
     "text": [
      "3\n"
     ]
    }
   ],
   "source": [
    "class Solution:\n",
    "    def maxOperations(self, nums, k):\n",
    "        nums.sort()\n",
    "        i, j = 0, len(nums) - 1\n",
    "        count = 0\n",
    "        while (i<j):\n",
    "            res = nums[i] + nums[j]\n",
    "            if res == k:\n",
    "                i += 1\n",
    "                j -= 1\n",
    "                count += 1\n",
    "            elif res < k:\n",
    "                i += 1\n",
    "            else:\n",
    "                j-=1\n",
    "        return count\n",
    "        \n",
    "                        \n",
    "        \n",
    "        \n",
    "        \n",
    "if __name__ == '__main__':\n",
    "    a = Solution()\n",
    "    b = [1,4,4,1,3,1,3,2,2,5,5,1,5,2,1,2,3,5,4,1]\n",
    "    k = 2\n",
    "    print(a.maxOperations(b, k))\n",
    "    \n"
   ]
  }
 ],
 "metadata": {
  "kernelspec": {
   "display_name": "Python [conda env:padchest] *",
   "language": "python",
   "name": "conda-env-padchest-py"
  },
  "language_info": {
   "codemirror_mode": {
    "name": "ipython",
    "version": 3
   },
   "file_extension": ".py",
   "mimetype": "text/x-python",
   "name": "python",
   "nbconvert_exporter": "python",
   "pygments_lexer": "ipython3",
   "version": "3.7.7"
  }
 },
 "nbformat": 4,
 "nbformat_minor": 4
}
