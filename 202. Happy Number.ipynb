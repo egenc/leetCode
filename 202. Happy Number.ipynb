{
 "cells": [
  {
   "cell_type": "code",
   "execution_count": 5,
   "metadata": {},
   "outputs": [
    {
     "name": "stdout",
     "output_type": "stream",
     "text": [
      "False\n"
     ]
    }
   ],
   "source": [
    "x = 18\n",
    "def isHappy(a):\n",
    "    temp = set()\n",
    "    while a != 1:\n",
    "        if a in temp: return False\n",
    "        temp.add(a)\n",
    "        a = sum([int(x)**2 for x in str(a)])\n",
    "    else:\n",
    "        return True\n",
    "            \n",
    "print(isHappy(x))"
   ]
  }
 ],
 "metadata": {
  "kernelspec": {
   "display_name": "Python [conda env:padchest] *",
   "language": "python",
   "name": "conda-env-padchest-py"
  },
  "language_info": {
   "codemirror_mode": {
    "name": "ipython",
    "version": 3
   },
   "file_extension": ".py",
   "mimetype": "text/x-python",
   "name": "python",
   "nbconvert_exporter": "python",
   "pygments_lexer": "ipython3",
   "version": "3.7.7"
  }
 },
 "nbformat": 4,
 "nbformat_minor": 4
}
