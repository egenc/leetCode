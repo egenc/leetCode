{
 "cells": [
  {
   "cell_type": "code",
   "execution_count": 13,
   "metadata": {},
   "outputs": [
    {
     "name": "stdout",
     "output_type": "stream",
     "text": [
      "0\n"
     ]
    }
   ],
   "source": [
    "def missingNumber(nums):\n",
    "    if len(nums) <2 and nums[0] == 1: return 0\n",
    "    total = [i for i in range(0, max(nums)+1, 1)]\n",
    "    if set(total)==set(nums):\n",
    "        return max(nums)+1\n",
    "    return list(set(total).difference(nums))[0]\n",
    "nums = [1,2,3,4,5,7]\n",
    "nums2 = [1,2,3,4,5,6,7]\n",
    "nums3 = [1]\n",
    "print(missingNumber(nums3))\n"
   ]
  }
 ],
 "metadata": {
  "kernelspec": {
   "display_name": "Python [conda env:padchest] *",
   "language": "python",
   "name": "conda-env-padchest-py"
  },
  "language_info": {
   "codemirror_mode": {
    "name": "ipython",
    "version": 3
   },
   "file_extension": ".py",
   "mimetype": "text/x-python",
   "name": "python",
   "nbconvert_exporter": "python",
   "pygments_lexer": "ipython3",
   "version": "3.7.7"
  }
 },
 "nbformat": 4,
 "nbformat_minor": 4
}
