{
 "cells": [
  {
   "cell_type": "code",
   "execution_count": 3,
   "metadata": {},
   "outputs": [
    {
     "name": "stdout",
     "output_type": "stream",
     "text": [
      "[1, 2, 'Fizz', 4, 'Buzz', 'Fizz', 7, 8, 'Fizz', 'Buzz', 11, 'Fizz', 13, 14, 'FizzBuzz']\n"
     ]
    }
   ],
   "source": [
    "def fizzBuzz(n):\n",
    "    nums = [i for i in range(1,n+1)]\n",
    "    for i in range(len(nums)):\n",
    "        if nums[i]%3==0 and nums[i]%5 == 0: nums[i] = 'FizzBuzz'\n",
    "        elif nums[i]%3 == 0: nums[i] = 'Fizz'\n",
    "        elif nums[i]%5 == 0: nums[i] = 'Buzz'\n",
    "        else: nums[i] = str(nums[i])\n",
    "    return nums\n",
    "    \n",
    "class Solution:\n",
    "    def fizzBuzz(n):\n",
    "        nums = [i for i in range(1,n+1)]\n",
    "        def result(num):\n",
    "            if num %3 == 0 and num %5 == 0: return 'FizzBuzz'"
   ]
  }
 ],
 "metadata": {
  "kernelspec": {
   "display_name": "Python [conda env:padchest] *",
   "language": "python",
   "name": "conda-env-padchest-py"
  },
  "language_info": {
   "codemirror_mode": {
    "name": "ipython",
    "version": 3
   },
   "file_extension": ".py",
   "mimetype": "text/x-python",
   "name": "python",
   "nbconvert_exporter": "python",
   "pygments_lexer": "ipython3",
   "version": "3.7.7"
  }
 },
 "nbformat": 4,
 "nbformat_minor": 4
}
