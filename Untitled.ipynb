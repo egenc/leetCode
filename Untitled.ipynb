{
 "cells": [
  {
   "cell_type": "code",
   "execution_count": 5,
   "metadata": {},
   "outputs": [
    {
     "name": "stdout",
     "output_type": "stream",
     "text": [
      "1.75\n"
     ]
    }
   ],
   "source": [
    "class Solution:\n",
    "    def averageWaitingTime(self, customers):\n",
    "        time =customers[0][0]\n",
    "        res = []\n",
    "        for i in range(len(customers)):\n",
    "            time += customers[i][1]\n",
    "            w_t = time - customers[i][0]\n",
    "            res.append(w_t)\n",
    "        return sum(res)/len(res)\n",
    "        \n",
    "        \n",
    "        \n",
    "if __name__ =='__main__':\n",
    "    a = Solution()\n",
    "    b= [[5,2],[5,4],[10,3],[20,1]]\n",
    "    print(a.averageWaitingTime(b))"
   ]
  }
 ],
 "metadata": {
  "kernelspec": {
   "display_name": "Python [conda env:padchest] *",
   "language": "python",
   "name": "conda-env-padchest-py"
  },
  "language_info": {
   "codemirror_mode": {
    "name": "ipython",
    "version": 3
   },
   "file_extension": ".py",
   "mimetype": "text/x-python",
   "name": "python",
   "nbconvert_exporter": "python",
   "pygments_lexer": "ipython3",
   "version": "3.7.7"
  }
 },
 "nbformat": 4,
 "nbformat_minor": 4
}
